{
 "cells": [
  {
   "cell_type": "code",
   "execution_count": 1,
   "metadata": {},
   "outputs": [
    {
     "name": "stderr",
     "output_type": "stream",
     "text": [
      "Using TensorFlow backend.\n",
      "/home/ec2-user/anaconda3/envs/tensorflow_p36/lib/python3.6/site-packages/sklearn/externals/joblib/__init__.py:15: DeprecationWarning: sklearn.externals.joblib is deprecated in 0.21 and will be removed in 0.23. Please import this functionality directly from joblib, which can be installed with: pip install joblib. If this warning is raised when loading pickled models, you may need to re-serialize those models with scikit-learn 0.21+.\n",
      "  warnings.warn(msg, category=DeprecationWarning)\n"
     ]
    }
   ],
   "source": [
    "\"\"\"\n",
    "Major Credit goes to Liam Schoneveld, whose work inspired this undertaking and heavily influenced \n",
    "my earlier trial and error, as well as the current work.\n",
    "\n",
    "His site links:\n",
    "https://nlml.github.io/neural-networks/detecting-bpm-neural-networks/\n",
    "https://nlml.github.io/neural-networks/detecting-bpm-neural-networks-update/\n",
    "\n",
    "The github repositories he posted:\n",
    "https://github.com/nlml/bpm\n",
    "https://github.com/nlml/bpm2\n",
    "\n",
    "And his linkedIn:\n",
    "https://www.linkedin.com/in/liam-schoneveld/\n",
    "\"\"\"\n",
    "\n",
    "# Our general imports\n",
    "from matplotlib import pyplot as plt\n",
    "import numpy as np\n",
    "import pandas as pd\n",
    "\n",
    "# Base packages used\n",
    "import keras\n",
    "\n",
    "# Specific neural network models & layer types\n",
    "from keras.models import Sequential\n",
    "from keras.layers import Dense\n",
    "from keras.layers import Conv1D\n",
    "from keras.layers import Conv2D\n",
    "from keras.layers import Flatten\n",
    "from keras.layers import Dense\n",
    "from keras.layers import Dropout\n",
    "from keras.layers import BatchNormalization\n",
    "from keras.layers import MaxPooling1D\n",
    "from keras.layers import Reshape\n",
    "from keras.callbacks import EarlyStopping\n",
    "from keras.models import load_model\n",
    "# To seperate our data into test and validation\n",
    "from sklearn.model_selection import train_test_split\n",
    "\n",
    "\n",
    "# A wonderful library for audio in python\n",
    "import librosa\n",
    "# To display waveforms and spectrograms\n",
    "import librosa.display\n",
    "\n",
    "# To listen to tunes\n",
    "import IPython.display as ipd\n",
    "\n",
    "# To find bpm\n",
    "import re\n",
    "\n",
    "# To get samples\n",
    "import random\n",
    "\n",
    "# To save our data!\n",
    "from sklearn.externals import joblib\n",
    "\n",
    "# To resize the spectrogram!\n",
    "import cv2"
   ]
  },
  {
   "cell_type": "code",
   "execution_count": 2,
   "metadata": {},
   "outputs": [],
   "source": [
    "# Data Creation\n",
    "# This is toy data with toy responses, to see if the concept works.\n",
    "def makedf(trackpath=\"WaveBank/one_80.wav\", samples = 10):\n",
    "    \n",
    "    \"\"\"\n",
    "    Make df accepts wav files of my specific naming structures. It then:\n",
    "        1. Normalizes the track\n",
    "        2. Checks the bpm\n",
    "        3. Creates the y-variable category, the bpm\n",
    "        4. Takes random 4 second slices to create a dataframe.\n",
    "    \"\"\"\n",
    "    \n",
    "    \n",
    "    \n",
    "    # Our X and y to make a dataframe\n",
    "    X = []\n",
    "    y = []\n",
    "    \n",
    "    # Take the track and get the array\n",
    "    wav, sr = librosa.load(trackpath, sr=44100)\n",
    "    \n",
    "    # Normalize the track\n",
    "    wav = wav / np.max(wav)\n",
    "    \n",
    "    # Check for bpm as our target category.\n",
    "    target = int(re.findall(r\"\\d{1,3}\", trackpath)[0])\n",
    "    \n",
    "    # This is to put the bpm into the range that makes sense to us.\n",
    "    if target > 160:\n",
    "        target = int(target/2)\n",
    "    elif target < 80:\n",
    "        target = int(target*2)\n",
    "    \n",
    "    # Create a list index where the categories should go\n",
    "    category_list = list(np.arange(80,161))\n",
    "    \n",
    "    # Give the y_value the number of the indexed bpm, to work for sparse categorical entropy\n",
    "    y_target = category_list.index(target)\n",
    "    \n",
    "    # To make the desired samples\n",
    "    s = 0\n",
    "    while s < (samples):\n",
    "        \n",
    "        # Make random slices\n",
    "        s += 1\n",
    "        \n",
    "        # Randomize the slice\n",
    "        start = random.randint(0,(len(wav)-(sr*4)))\n",
    "        x_slice = wav[start:(start+(sr*4))]\n",
    "        \n",
    "        # To downsample our x_slice\n",
    "        x_slice = x_slice[0::4]\n",
    "        \n",
    "        # Reshape our wav to a 441 time steps with 100 feature matrix\n",
    "        x_slice = x_slice.reshape(441,100)\n",
    "        \n",
    "        # Add the matrices to our list\n",
    "        X.append(x_slice)\n",
    "        y.append(y_target)\n",
    "    \n",
    "    # Change our lists into arrays\n",
    "    X = np.array(X)\n",
    "    y = np.array(y)\n",
    "    \n",
    "    # Give us the data!\n",
    "    return X, y"
   ]
  },
  {
   "cell_type": "code",
   "execution_count": 3,
   "metadata": {},
   "outputs": [
    {
     "name": "stdout",
     "output_type": "stream",
     "text": [
      "(150, 441, 100)\n",
      "(150,)\n",
      "(12150, 441, 100)\n",
      "(12150,)\n"
     ]
    }
   ],
   "source": [
    "# Make a big data set \n",
    "# for BigBrainBeatv3_phase2\n",
    "for i in range(80,161):\n",
    "    X, y = makedf(trackpath=f\"WaveBank/two_{i}.wav\", samples = 150)\n",
    "    if i == 80:\n",
    "        X_totalv3_phase2 = X\n",
    "        y_totalv3_phase2 = y\n",
    "        print(X_totalv3_phase2.shape)\n",
    "        print(y_totalv3_phase2.shape)\n",
    "    else:\n",
    "        X_totalv3_phase2 = np.append(X_totalv3_phase2, X, axis = 0)\n",
    "        y_totalv3_phase2 = np.append(y_totalv3_phase2, y, axis = 0)\n",
    "\n",
    "        # This is if we want to save our dataset for later\n",
    "#     joblib.dump(X_total, \"X_totalv3_phase2.pkl\")\n",
    "#     joblib.dump(y_total, \"y_totalv3_phase2.pkl\")\n",
    "   \n",
    "print(X_totalv3_phase2.shape)\n",
    "print(y_totalv3_phase2.shape)"
   ]
  },
  {
   "cell_type": "code",
   "execution_count": 4,
   "metadata": {},
   "outputs": [],
   "source": [
    "# Now we split our data\n",
    "X_train, X_test,y_train, y_test = train_test_split(X_totalv3_phase2, y_totalv3_phase2, test_size = 0.40)"
   ]
  },
  {
   "cell_type": "code",
   "execution_count": 5,
   "metadata": {},
   "outputs": [
    {
     "name": "stdout",
     "output_type": "stream",
     "text": [
      "(7290, 441, 100)\n",
      "(4860, 441, 100)\n",
      "(7290,)\n",
      "(4860,)\n"
     ]
    }
   ],
   "source": [
    "# To check and see if everything is in the desired shape\n",
    "print(X_train.shape)\n",
    "print(X_test.shape)\n",
    "print(y_train.shape)\n",
    "print(y_test.shape)"
   ]
  },
  {
   "cell_type": "code",
   "execution_count": 6,
   "metadata": {},
   "outputs": [],
   "source": [
    "# To normalize the data, between 0 and 1\n",
    "X_train /= X_train.max()\n",
    "X_test /= X_train.max()"
   ]
  },
  {
   "cell_type": "code",
   "execution_count": 7,
   "metadata": {},
   "outputs": [
    {
     "name": "stderr",
     "output_type": "stream",
     "text": [
      "WARNING: Logging before flag parsing goes to stderr.\n",
      "W0901 22:19:48.978662 140103980910400 deprecation_wrapper.py:119] From /home/ec2-user/anaconda3/envs/tensorflow_p36/lib/python3.6/site-packages/keras/backend/tensorflow_backend.py:517: The name tf.placeholder is deprecated. Please use tf.compat.v1.placeholder instead.\n",
      "\n",
      "W0901 22:19:49.001198 140103980910400 deprecation_wrapper.py:119] From /home/ec2-user/anaconda3/envs/tensorflow_p36/lib/python3.6/site-packages/keras/backend/tensorflow_backend.py:4138: The name tf.random_uniform is deprecated. Please use tf.random.uniform instead.\n",
      "\n",
      "W0901 22:19:49.020564 140103980910400 deprecation_wrapper.py:119] From /home/ec2-user/anaconda3/envs/tensorflow_p36/lib/python3.6/site-packages/keras/backend/tensorflow_backend.py:131: The name tf.get_default_graph is deprecated. Please use tf.compat.v1.get_default_graph instead.\n",
      "\n",
      "W0901 22:19:49.021341 140103980910400 deprecation_wrapper.py:119] From /home/ec2-user/anaconda3/envs/tensorflow_p36/lib/python3.6/site-packages/keras/backend/tensorflow_backend.py:133: The name tf.placeholder_with_default is deprecated. Please use tf.compat.v1.placeholder_with_default instead.\n",
      "\n",
      "W0901 22:19:49.029962 140103980910400 deprecation.py:506] From /home/ec2-user/anaconda3/envs/tensorflow_p36/lib/python3.6/site-packages/keras/backend/tensorflow_backend.py:3445: calling dropout (from tensorflow.python.ops.nn_ops) with keep_prob is deprecated and will be removed in a future version.\n",
      "Instructions for updating:\n",
      "Please use `rate` instead of `keep_prob`. Rate should be set to `rate = 1 - keep_prob`.\n",
      "W0901 22:19:49.143729 140103980910400 deprecation_wrapper.py:119] From /home/ec2-user/anaconda3/envs/tensorflow_p36/lib/python3.6/site-packages/keras/backend/tensorflow_backend.py:174: The name tf.get_default_session is deprecated. Please use tf.compat.v1.get_default_session instead.\n",
      "\n",
      "W0901 22:19:49.292028 140103980910400 deprecation_wrapper.py:119] From /home/ec2-user/anaconda3/envs/tensorflow_p36/lib/python3.6/site-packages/keras/optimizers.py:790: The name tf.train.Optimizer is deprecated. Please use tf.compat.v1.train.Optimizer instead.\n",
      "\n",
      "W0901 22:19:49.371949 140103980910400 deprecation.py:323] From /home/ec2-user/anaconda3/envs/tensorflow_p36/lib/python3.6/site-packages/tensorflow/python/ops/math_grad.py:1250: add_dispatch_support.<locals>.wrapper (from tensorflow.python.ops.array_ops) is deprecated and will be removed in a future version.\n",
      "Instructions for updating:\n",
      "Use tf.where in 2.0, which has the same broadcast rule as np.where\n"
     ]
    },
    {
     "name": "stdout",
     "output_type": "stream",
     "text": [
      "_________________________________________________________________\n",
      "Layer (type)                 Output Shape              Param #   \n",
      "=================================================================\n",
      "conv1d_1 (Conv1D)            (None, 441, 10)           3010      \n",
      "_________________________________________________________________\n",
      "dropout_1 (Dropout)          (None, 441, 10)           0         \n",
      "_________________________________________________________________\n",
      "conv1d_2 (Conv1D)            (None, 441, 10)           510       \n",
      "_________________________________________________________________\n",
      "dropout_2 (Dropout)          (None, 441, 10)           0         \n",
      "_________________________________________________________________\n",
      "flatten_1 (Flatten)          (None, 4410)              0         \n",
      "_________________________________________________________________\n",
      "dense_1 (Dense)              (None, 81)                357291    \n",
      "_________________________________________________________________\n",
      "dropout_3 (Dropout)          (None, 81)                0         \n",
      "_________________________________________________________________\n",
      "dense_2 (Dense)              (None, 81)                6642      \n",
      "=================================================================\n",
      "Total params: 367,453\n",
      "Trainable params: 367,453\n",
      "Non-trainable params: 0\n",
      "_________________________________________________________________\n"
     ]
    }
   ],
   "source": [
    "# To create our re-imagined convolution neural network\n",
    "\n",
    "category_list = list(np.arange(80,161))\n",
    "input_rows = X_train.shape[1]\n",
    "input_feat = X_train.shape[2]\n",
    "num_classes = len(category_list)\n",
    "\n",
    "# Using AWS we can run more epochs, so let's get crazy and see how far we can go!\n",
    "early = EarlyStopping(monitor='val_loss', patience=2, verbose=1, mode='auto')\n",
    "\n",
    "# To bring in our convolution Neural Network, and train on more, new, different data!\n",
    "BigBrainBeatv3_phase2 = load_model('BigBrainBeatv3_phase1.h5')\n",
    "BigBrainBeatv3_phase2.summary()"
   ]
  },
  {
   "cell_type": "code",
   "execution_count": 8,
   "metadata": {},
   "outputs": [
    {
     "name": "stdout",
     "output_type": "stream",
     "text": [
      "Train on 7290 samples, validate on 4860 samples\n",
      "Epoch 1/50\n",
      "7290/7290 [==============================] - 7s 949us/step - loss: 4.3917 - acc: 0.0177 - val_loss: 4.3800 - val_acc: 0.0208\n",
      "Epoch 2/50\n",
      "7290/7290 [==============================] - 6s 812us/step - loss: 4.3763 - acc: 0.0222 - val_loss: 4.3570 - val_acc: 0.0267\n",
      "Epoch 3/50\n",
      "7290/7290 [==============================] - 6s 808us/step - loss: 4.3023 - acc: 0.0248 - val_loss: 4.0857 - val_acc: 0.0467\n",
      "Epoch 4/50\n",
      "7290/7290 [==============================] - 6s 808us/step - loss: 4.1330 - acc: 0.0447 - val_loss: 3.9412 - val_acc: 0.0720\n",
      "Epoch 5/50\n",
      "7290/7290 [==============================] - 6s 815us/step - loss: 4.0251 - acc: 0.0457 - val_loss: 3.8039 - val_acc: 0.0971\n",
      "Epoch 6/50\n",
      "7290/7290 [==============================] - 6s 813us/step - loss: 3.8538 - acc: 0.0684 - val_loss: 3.4604 - val_acc: 0.1461\n",
      "Epoch 7/50\n",
      "7290/7290 [==============================] - 6s 808us/step - loss: 3.6435 - acc: 0.0835 - val_loss: 3.1491 - val_acc: 0.1955\n",
      "Epoch 8/50\n",
      "7290/7290 [==============================] - 6s 805us/step - loss: 3.3751 - acc: 0.1125 - val_loss: 2.7740 - val_acc: 0.2543\n",
      "Epoch 9/50\n",
      "7290/7290 [==============================] - 6s 808us/step - loss: 3.1703 - acc: 0.1425 - val_loss: 2.5214 - val_acc: 0.3006\n",
      "Epoch 10/50\n",
      "7290/7290 [==============================] - 6s 810us/step - loss: 3.0009 - acc: 0.1672 - val_loss: 2.3218 - val_acc: 0.3272\n",
      "Epoch 11/50\n",
      "7290/7290 [==============================] - 6s 809us/step - loss: 2.8553 - acc: 0.1809 - val_loss: 2.1135 - val_acc: 0.3619\n",
      "Epoch 12/50\n",
      "7290/7290 [==============================] - 6s 809us/step - loss: 2.7562 - acc: 0.1952 - val_loss: 2.0405 - val_acc: 0.3918\n",
      "Epoch 13/50\n",
      "7290/7290 [==============================] - 6s 807us/step - loss: 2.6453 - acc: 0.2085 - val_loss: 1.9432 - val_acc: 0.4210\n",
      "Epoch 14/50\n",
      "7290/7290 [==============================] - 6s 804us/step - loss: 2.5993 - acc: 0.2203 - val_loss: 1.8484 - val_acc: 0.4393\n",
      "Epoch 15/50\n",
      "7290/7290 [==============================] - 6s 807us/step - loss: 2.5286 - acc: 0.2311 - val_loss: 1.7443 - val_acc: 0.4574\n",
      "Epoch 16/50\n",
      "7290/7290 [==============================] - 6s 809us/step - loss: 2.4972 - acc: 0.2440 - val_loss: 1.7439 - val_acc: 0.4498\n",
      "Epoch 17/50\n",
      "7290/7290 [==============================] - 6s 807us/step - loss: 2.4451 - acc: 0.2451 - val_loss: 1.6677 - val_acc: 0.4813\n",
      "Epoch 18/50\n",
      "7290/7290 [==============================] - 6s 805us/step - loss: 2.4155 - acc: 0.2443 - val_loss: 1.7039 - val_acc: 0.4829\n",
      "Epoch 19/50\n",
      "7290/7290 [==============================] - 6s 803us/step - loss: 2.3898 - acc: 0.2573 - val_loss: 1.6269 - val_acc: 0.4949\n",
      "Epoch 20/50\n",
      "7290/7290 [==============================] - 6s 807us/step - loss: 2.3745 - acc: 0.2575 - val_loss: 1.5742 - val_acc: 0.5123\n",
      "Epoch 21/50\n",
      "7290/7290 [==============================] - 6s 806us/step - loss: 2.3258 - acc: 0.2738 - val_loss: 1.5702 - val_acc: 0.5014\n",
      "Epoch 22/50\n",
      "7290/7290 [==============================] - 6s 810us/step - loss: 2.2939 - acc: 0.2794 - val_loss: 1.5317 - val_acc: 0.5152\n",
      "Epoch 23/50\n",
      "7290/7290 [==============================] - 6s 811us/step - loss: 2.2918 - acc: 0.2819 - val_loss: 1.4709 - val_acc: 0.5438\n",
      "Epoch 24/50\n",
      "7290/7290 [==============================] - 6s 807us/step - loss: 2.2743 - acc: 0.2748 - val_loss: 1.4627 - val_acc: 0.5566\n",
      "Epoch 25/50\n",
      "7290/7290 [==============================] - 6s 809us/step - loss: 2.2496 - acc: 0.2852 - val_loss: 1.4457 - val_acc: 0.5418\n",
      "Epoch 26/50\n",
      "7290/7290 [==============================] - 6s 805us/step - loss: 2.1860 - acc: 0.2981 - val_loss: 1.4646 - val_acc: 0.5440\n",
      "Epoch 27/50\n",
      "7290/7290 [==============================] - 6s 810us/step - loss: 2.1856 - acc: 0.2992 - val_loss: 1.4105 - val_acc: 0.5710\n",
      "Epoch 28/50\n",
      "7290/7290 [==============================] - 6s 808us/step - loss: 2.1741 - acc: 0.3034 - val_loss: 1.3929 - val_acc: 0.5677\n",
      "Epoch 29/50\n",
      "7290/7290 [==============================] - 6s 812us/step - loss: 2.1672 - acc: 0.3095 - val_loss: 1.3867 - val_acc: 0.5728\n",
      "Epoch 30/50\n",
      "7290/7290 [==============================] - 7s 894us/step - loss: 2.1315 - acc: 0.3097 - val_loss: 1.3802 - val_acc: 0.5553\n",
      "Epoch 31/50\n",
      "7290/7290 [==============================] - 7s 974us/step - loss: 2.0956 - acc: 0.3233 - val_loss: 1.3209 - val_acc: 0.5813\n",
      "Epoch 32/50\n",
      "7290/7290 [==============================] - 6s 812us/step - loss: 2.1198 - acc: 0.3240 - val_loss: 1.3260 - val_acc: 0.5870\n",
      "Epoch 33/50\n",
      "7290/7290 [==============================] - 6s 811us/step - loss: 2.1271 - acc: 0.3081 - val_loss: 1.3097 - val_acc: 0.6070\n",
      "Epoch 34/50\n",
      "7290/7290 [==============================] - 6s 802us/step - loss: 2.0968 - acc: 0.3202 - val_loss: 1.3454 - val_acc: 0.5788\n",
      "Epoch 35/50\n",
      "7290/7290 [==============================] - 6s 803us/step - loss: 2.0761 - acc: 0.3306 - val_loss: 1.2881 - val_acc: 0.6023\n",
      "Epoch 36/50\n",
      "7290/7290 [==============================] - 6s 805us/step - loss: 2.0774 - acc: 0.3277 - val_loss: 1.3609 - val_acc: 0.5829\n",
      "Epoch 37/50\n",
      "7290/7290 [==============================] - 6s 805us/step - loss: 2.0885 - acc: 0.3225 - val_loss: 1.3282 - val_acc: 0.5907\n",
      "Epoch 00037: early stopping\n"
     ]
    },
    {
     "data": {
      "text/plain": [
       "<keras.callbacks.History at 0x7f6c08943160>"
      ]
     },
     "execution_count": 8,
     "metadata": {},
     "output_type": "execute_result"
    }
   ],
   "source": [
    "# Fit the model on the training data, defining desired batch_size & number of epochs,\n",
    "# running validation on the test data after each batch\n",
    "BigBrainBeatv3_phase2.fit(X_train, y_train,\n",
    "              batch_size = 50,\n",
    "              epochs = 50,\n",
    "              verbose = 1,\n",
    "              validation_data = (X_test, y_test),\n",
    "              shuffle=True,\n",
    "              callbacks=[early])"
   ]
  },
  {
   "cell_type": "code",
   "execution_count": 9,
   "metadata": {},
   "outputs": [
    {
     "name": "stdout",
     "output_type": "stream",
     "text": [
      "4860/4860 [==============================] - 1s 237us/step\n",
      "Test loss: 1.3281751154872126\n",
      "Test accuracy: 0.5907407408879127\n"
     ]
    }
   ],
   "source": [
    "# Evaluate the model's performance on the test data\n",
    "score = BigBrainBeatv3_phase2.evaluate(X_test, y_test, verbose=1)\n",
    "\n",
    "print('Test loss:', score[0])\n",
    "print('Test accuracy:', score[1])"
   ]
  },
  {
   "cell_type": "code",
   "execution_count": 10,
   "metadata": {},
   "outputs": [
    {
     "data": {
      "image/png": "[encoded data removed]",
      "text/plain": [
       "<Figure size 1440x360 with 2 Axes>"
      ]
     },
     "metadata": {},
     "output_type": "display_data"
    },
    {
     "data": {
      "text/plain": [
       "<Figure size 432x288 with 0 Axes>"
      ]
     },
     "metadata": {},
     "output_type": "display_data"
    }
   ],
   "source": [
    "# Get the training history \n",
    "history = BigBrainBeatv3_phase2.history \n",
    "\n",
    "# Accuracy and loss for test set\n",
    "acc = history.history['acc']\n",
    "loss = history.history['loss']\n",
    "\n",
    "# Accuracy and loss for validation set\n",
    "val_loss = history.history['val_loss']\n",
    "val_acc = history.history['val_acc']\n",
    "\n",
    "# Accuracy\n",
    "plt.figure(figsize= (20,5))\n",
    "plt.subplot(1,2,1)\n",
    "plt.plot(acc, label='Training Acc', marker='.')\n",
    "plt.plot(val_acc, label='Validation Acc', marker='.')\n",
    "plt.title('Accuracy')\n",
    "plt.xlabel('Epoch')\n",
    "plt.legend()\n",
    "\n",
    "plt.subplot(1,2,2)\n",
    "plt.plot(loss, label='Training Loss', marker='.')\n",
    "plt.plot(val_loss, label='Validation Loss', marker='.')\n",
    "plt.title('Loss')\n",
    "plt.legend()\n",
    "\n",
    "plt.savefig(\"BigBrainBeatv3_phase2_accAndLoss.jpg\")\n",
    "\n",
    "plt.show()"
   ]
  },
  {
   "cell_type": "code",
   "execution_count": 11,
   "metadata": {},
   "outputs": [],
   "source": [
    "# To save our model\n",
    "BigBrainBeatv3_phase2.save('BigBrainBeatv3_phase2.h5')"
   ]
  },
  {
   "cell_type": "code",
   "execution_count": 12,
   "metadata": {},
   "outputs": [
    {
     "data": {
      "text/plain": [
       "2997"
      ]
     },
     "execution_count": 12,
     "metadata": {},
     "output_type": "execute_result"
    }
   ],
   "source": [
    "# To write the history to a text file\n",
    "BigBrainBeatv3_phase2_history = open(\"BigBrainBeatv3_phase2_history.txt\",\"w+\")\n",
    "history_string = str(history.history)\n",
    "BigBrainBeatv3_phase2_history.write(history_string)"
   ]
  },
  {
   "cell_type": "markdown",
   "metadata": {},
   "source": [
    "___\n",
    "Let's now see if we can approximate the position of the beats based on our predicted bpm, as well as visualize this outcome."
   ]
  },
  {
   "cell_type": "code",
   "execution_count": 40,
   "metadata": {},
   "outputs": [],
   "source": [
    "# A function to read in a wav, take the first four seconds, then arrange it to do a prediction\n",
    "def new_wav_slice(trackpath = \"Teleportoise - Epilogue.wav\", start = 0):\n",
    "    \"\"\"\n",
    "    This function takes in a wav filepath.\n",
    "    It then takes the 4 second slice of the wav, starting at the specified second.\n",
    "    It downsamples the 4 second wav by a quarter. When playing the wav back, \n",
    "    the specified sampling rate ought to be 11025.\n",
    "    It reshapes this slice into a matrix to be used for our model.\n",
    "    It returns the wav in the shape we want for our model.\n",
    "    \"\"\"\n",
    "    \n",
    "    # To read in the wav\n",
    "    wav, sr = librosa.load(trackpath, sr=44100)\n",
    "    \n",
    "    # To normalize the wav\n",
    "    wav = wav / np.max(wav)\n",
    "    \n",
    "    start = sr*start\n",
    "    \n",
    "    # To take our desired slice\n",
    "    x_slice = wav[start:(start+(sr*4))]\n",
    "        \n",
    "    # To downsample our x_slice\n",
    "    x_slice = x_slice[0::4]\n",
    "    \n",
    "    # To reshape into what we want for the model\n",
    "    matrix = x_slice.reshape(1, 441, 100)\n",
    "    \n",
    "    return matrix"
   ]
  },
  {
   "cell_type": "code",
   "execution_count": 41,
   "metadata": {},
   "outputs": [],
   "source": [
    "def graph_pred(three_d_mat, model):    \n",
    "    \"\"\"\n",
    "    This function takes in a matrix shape(1, 441, 100), and our model.\n",
    "    The matrix should represent a 4 second 44100hz wav, downsampled to 11025hz and reshaped.\n",
    "    This function then predicts a bpm based on the range our model has been provided.\n",
    "    It returns a beat prediction array as well a flattening of the wave matrix to compare in a graph.\n",
    "    \"\"\"\n",
    "    # To get our flattened file for later.\n",
    "    downsampled_wav = three_d_mat.flatten()\n",
    "    \n",
    "    \n",
    "    # A list of possible bpm values\n",
    "    category_list = list(np.arange(80,161))\n",
    "\n",
    "    # The liklihoods of different bpm values our model is guessing for the image\n",
    "    predictions_index = np.argmax(model.predict(three_d_mat))\n",
    "    \n",
    "    print(f\"Our predicted bpm is:{category_list[predictions_index]}\")\n",
    "\n",
    "    # Get the beats per second\n",
    "    bps = category_list[predictions_index]/60\n",
    "\n",
    "    # To find how many hertz between each beat\n",
    "    beat_step = int(11025/bps)\n",
    "\n",
    "    # In our model and how we process the data at least one beat MUST fall within this range.\n",
    "    max_check_range = int(11025/(80/60))\n",
    "\n",
    "    # Setting up our beat illustrater\n",
    "    beat_pred = np.zeros(44100)\n",
    "\n",
    "    # Getting the index from where to start the beat inference\n",
    "    index_start = np.argmax(downsampled_wav[0:max_check_range])\n",
    "    \n",
    "    # To write in where we are inferring the beats should be based on predicition\n",
    "    for i in range(index_start,44101,beat_step):\n",
    "        beat_pred[i-1] = 1\n",
    "    \n",
    "    \n",
    "    return beat_pred, downsampled_wav"
   ]
  },
  {
   "cell_type": "code",
   "execution_count": 42,
   "metadata": {},
   "outputs": [
    {
     "name": "stdout",
     "output_type": "stream",
     "text": [
      "Our predicted bpm is:144\n"
     ]
    }
   ],
   "source": [
    "matrix = new_wav_slice(trackpath = \"WaveBank/two_143.wav\")\n",
    "beat_pred, downsampled_wav = graph_pred(matrix, BigBrainBeatv3_phase2)"
   ]
  },
  {
   "cell_type": "code",
   "execution_count": 43,
   "metadata": {},
   "outputs": [
    {
     "data": {
      "image/png": "[encoded data removed]",
      "text/plain": [
       "<Figure size 1080x720 with 1 Axes>"
      ]
     },
     "metadata": {},
     "output_type": "display_data"
    }
   ],
   "source": [
    "plt.figure(figsize=(15,10))\n",
    "plt.plot(downsampled_wav)\n",
    "plt.plot(beat_pred, \"red\")\n",
    "plt.show()"
   ]
  },
  {
   "cell_type": "code",
   "execution_count": 1,
   "metadata": {},
   "outputs": [
    {
     "ename": "NameError",
     "evalue": "name 'ipd' is not defined",
     "output_type": "error",
     "traceback": [
      "\u001b[0;31m---------------------------------------------------------------------------\u001b[0m",
      "\u001b[0;31mNameError\u001b[0m                                 Traceback (most recent call last)",
      "\u001b[0;32m<ipython-input-1-0e0cee77c54c>\u001b[0m in \u001b[0;36m<module>\u001b[0;34m\u001b[0m\n\u001b[1;32m      1\u001b[0m \u001b[0;31m# And to listen to the tune, make sure the sampling rate is correct!\u001b[0m\u001b[0;34m\u001b[0m\u001b[0;34m\u001b[0m\u001b[0;34m\u001b[0m\u001b[0m\n\u001b[0;32m----> 2\u001b[0;31m \u001b[0mipd\u001b[0m\u001b[0;34m.\u001b[0m\u001b[0mAudio\u001b[0m\u001b[0;34m(\u001b[0m\u001b[0mdata\u001b[0m \u001b[0;34m=\u001b[0m \u001b[0;34m(\u001b[0m\u001b[0mdownsampled_wav\u001b[0m\u001b[0;34m,\u001b[0m\u001b[0mbeat_pred\u001b[0m\u001b[0;34m)\u001b[0m\u001b[0;34m,\u001b[0m \u001b[0mrate\u001b[0m \u001b[0;34m=\u001b[0m\u001b[0;36m11025\u001b[0m\u001b[0;34m)\u001b[0m\u001b[0;34m\u001b[0m\u001b[0;34m\u001b[0m\u001b[0m\n\u001b[0m",
      "\u001b[0;31mNameError\u001b[0m: name 'ipd' is not defined"
     ]
    }
   ],
   "source": [
    "# And to listen to the tune, make sure the sampling rate is correct!\n",
    "ipd.Audio(data = (downsampled_wav,beat_pred), rate =11025)"
   ]
  },
  {
   "cell_type": "code",
   "execution_count": null,
   "metadata": {},
   "outputs": [],
   "source": []
  }
 ],
 "metadata": {
  "kernelspec": {
   "display_name": "Python 3",
   "language": "python",
   "name": "python3"
  },
  "language_info": {
   "codemirror_mode": {
    "name": "ipython",
    "version": 3
   },
   "file_extension": ".py",
   "mimetype": "text/x-python",
   "name": "python",
   "nbconvert_exporter": "python",
   "pygments_lexer": "ipython3",
   "version": "3.7.4"
  }
 },
 "nbformat": 4,
 "nbformat_minor": 4
}
